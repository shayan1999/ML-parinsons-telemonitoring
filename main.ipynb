{
 "cells": [
  {
   "cell_type": "markdown",
   "metadata": {},
   "source": [
    "## imports\n",
    "in this section we import every library and other stuffs we want."
   ]
  },
  {
   "cell_type": "code",
   "execution_count": 1,
   "metadata": {},
   "outputs": [],
   "source": [
    "import pandas as pd\n",
    "import numpy as np\n",
    "import matplotlib.pyplot as plt\n",
    "from ucimlrepo import fetch_ucirepo \n",
    "from sklearn.model_selection import train_test_split, cross_val_score\n",
    "from sklearn.tree import DecisionTreeClassifier\n",
    "from sklearn.ensemble import RandomForestClassifier\n",
    "from sklearn.svm import SVC\n",
    "from sklearn.neural_network import MLPClassifier\n",
    "from xgboost import XGBClassifier\n",
    "from sklearn.cluster import KMeans\n"
   ]
  },
  {
   "cell_type": "markdown",
   "metadata": {},
   "source": [
    "## import data\n",
    "so I checked our dataset link and there was a \"IMPORT IN PYTHON\" button so I clicked on it and there was a snippet for importing our dataset in our code which you can see it below."
   ]
  },
  {
   "cell_type": "markdown",
   "metadata": {},
   "source": [
    "as you can see in the last part of this snippet I added target column to our dataset and I used \"total_UPDRS\" as our targets which seems is a better feature after I checked the paper."
   ]
  },
  {
   "cell_type": "code",
   "execution_count": 2,
   "metadata": {},
   "outputs": [],
   "source": [
    "  \n",
    "parkinson_telemonitoring = fetch_ucirepo(id=189) \n",
    "  \n",
    "X = parkinson_telemonitoring.data.features \n",
    "y = parkinson_telemonitoring.data.targets \n",
    "  \n",
    "df = pd.DataFrame(X)\n",
    "df['total_UPDRS']= y['total_UPDRS']"
   ]
  },
  {
   "cell_type": "markdown",
   "metadata": {},
   "source": [
    "## classify\n",
    "after that I had to classify our targets into 2 classes 0 and 1 (making them binary)\n",
    "\n",
    "so I implemented these functions here so we can use them and check the best result for ourself."
   ]
  },
  {
   "cell_type": "markdown",
   "metadata": {},
   "source": [
    "#### kmeans\n",
    "The K-means clustering algorithm is a method used in data analysis to partition a dataset into K distinct, non-overlapping subgroups (clusters), where each data point belongs to the cluster with the nearest mean.\n",
    "\n",
    "so we are using this method with K=2."
   ]
  },
  {
   "cell_type": "code",
   "execution_count": 3,
   "metadata": {},
   "outputs": [],
   "source": [
    "def Kmeans_classify():\n",
    "    X_clustering = df.drop('total_UPDRS', axis=1)\n",
    "    kmeans = KMeans(n_clusters=2, random_state=42).fit(X_clustering)\n",
    "    df['target'] = kmeans.labels_\n",
    "    counts = df['target'].value_counts()\n",
    "    print(counts)\n",
    "\n",
    "def simple_classify(type):\n",
    "    threshold = df['total_UPDRS'].median() if(type=='median') else df['total_UPDRS'].mean()\n",
    "    df['target'] = (df['total_UPDRS'] >= threshold).astype(int)\n",
    "    counts = df['target'].value_counts()\n",
    "    print(counts)\n",
    "\n"
   ]
  },
  {
   "cell_type": "markdown",
   "metadata": {},
   "source": [
    "## choose method here!\n",
    "so I added all methods here and you have to uncomment one of them and comment all other ones and it will classify our target with that method."
   ]
  },
  {
   "cell_type": "code",
   "execution_count": 4,
   "metadata": {},
   "outputs": [
    {
     "name": "stderr",
     "output_type": "stream",
     "text": [
      "/Library/Frameworks/Python.framework/Versions/3.11/lib/python3.11/site-packages/sklearn/cluster/_kmeans.py:1416: FutureWarning: The default value of `n_init` will change from 10 to 'auto' in 1.4. Set the value of `n_init` explicitly to suppress the warning\n",
      "  super()._check_params_vs_input(X, default_n_init=10)\n"
     ]
    },
    {
     "name": "stdout",
     "output_type": "stream",
     "text": [
      "target\n",
      "1    2990\n",
      "0    2885\n",
      "Name: count, dtype: int64\n",
      "target\n",
      "1    2940\n",
      "0    2935\n",
      "Name: count, dtype: int64\n",
      "target\n",
      "0    3210\n",
      "1    2665\n",
      "Name: count, dtype: int64\n"
     ]
    }
   ],
   "source": [
    "Kmeans_classify()\n",
    "simple_classify('median')\n",
    "simple_classify('mean')"
   ]
  },
  {
   "cell_type": "markdown",
   "metadata": {},
   "source": []
  }
 ],
 "metadata": {
  "kernelspec": {
   "display_name": "Python 3",
   "language": "python",
   "name": "python3"
  },
  "language_info": {
   "codemirror_mode": {
    "name": "ipython",
    "version": 3
   },
   "file_extension": ".py",
   "mimetype": "text/x-python",
   "name": "python",
   "nbconvert_exporter": "python",
   "pygments_lexer": "ipython3",
   "version": "3.11.3"
  }
 },
 "nbformat": 4,
 "nbformat_minor": 2
}
